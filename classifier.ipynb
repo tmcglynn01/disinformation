{
 "cells": [
  {
   "cell_type": "code",
   "execution_count": 1,
   "metadata": {},
   "outputs": [],
   "source": [
    "import os\n",
    "import pandas as pd\n",
    "import numpy as np\n",
    "from sklearn.ensemble import RandomForestClassifier\n",
    "\n",
    "os.chdir('/home/trevor/disinformation')"
   ]
  },
  {
   "cell_type": "code",
   "execution_count": 2,
   "metadata": {},
   "outputs": [],
   "source": [
    "# Import the data frames\n",
    "wf = pd.read_csv('data/datasets/fake_domain_word_freq.csv')\n",
    "df = pd.read_csv('data/datasets/fake_real_domains_combined.csv')\n",
    "rs = pd.read_csv('data/datasets/reg_scores.csv')"
   ]
  },
  {
   "cell_type": "code",
   "execution_count": null,
   "metadata": {},
   "outputs": [],
   "source": [
    "# Score domain keywords based on word frequencies in the sample\n",
    "for e, dom in enumerate(df['dom_split']):\n",
    "    dom_split = dom.split(' ')\n",
    "    score = 0\n",
    "    for word in dom_split:\n",
    "        try:\n",
    "            prob = wf.loc[wf['word'] == word, 'samp_freq'].values[0]\n",
    "        except IndexError: prob = 0\n",
    "        score += prob\n",
    "    df.loc[e, 'dom_score'] = score\n",
    "mult = 1/df['dom_score'].max()\n",
    "df['dom_score'] = df['dom_score'] * mult"
   ]
  },
  {
   "cell_type": "code",
   "execution_count": null,
   "metadata": {},
   "outputs": [],
   "source": [
    "# Score registrars based on word frequencies in the sample\n",
    "for e, reg in enumerate(df['registrar']):\n",
    "    score = 0\n",
    "    other_val = rs.loc[rs['registrar'] == 'Other', 'reg_score'].values[0]\n",
    "    try:\n",
    "        prob = rs.loc[rs['registrar'] == reg, 'reg_score'].values[0]\n",
    "    except IndexError: prob = other_val\n",
    "    df.loc[e, 'reg_score'] = score\n",
    "\n",
    "df.tail()"
   ]
  },
  {
   "cell_type": "code",
   "execution_count": null,
   "metadata": {},
   "outputs": [],
   "source": [
    "# Fill NAs for rank with the highest known one\n",
    "df['rank'] = df['rank'].fillna(df['rank'].max())"
   ]
  },
  {
   "cell_type": "code",
   "execution_count": null,
   "metadata": {},
   "outputs": [],
   "source": [
    "# Create the split datasets for train, validate, and test\n",
    "train, validate, test = np.split(\n",
    "    df.sample(frac=1, random_state=42), [int(.6*len(df)), int(.8*len(df))])\n",
    "\n",
    "y = train['trust']\n",
    "features = ['domain_length', 'keyword_length', 'num_nameservers',\n",
    "            'dom_age_days', 'dom_score', 'reg_score', 'rank']"
   ]
  },
  {
   "cell_type": "code",
   "execution_count": null,
   "metadata": {},
   "outputs": [],
   "source": [
    "# Check for NaN values in the sets\n",
    "print(train[features].isnull().sum().sum())\n",
    "print(validate[features].isnull().sum().sum())\n",
    "print(test[features].isnull().sum().sum())"
   ]
  },
  {
   "cell_type": "code",
   "execution_count": null,
   "metadata": {},
   "outputs": [],
   "source": [
    "# Train the classifier\n",
    "X = pd.get_dummies(train[features])\n",
    "X_test = pd.get_dummies(test[features])\n",
    "\n",
    "model = RandomForestClassifier(n_estimators=100, max_depth=5, random_state=1)\n",
    "model.fit(X, y)\n",
    "predictions = model.predict(X_test)"
   ]
  },
  {
   "cell_type": "code",
   "execution_count": null,
   "metadata": {},
   "outputs": [],
   "source": [
    "# Create confusion matrix\n",
    "pd.crosstab(test['trust'], predictions, rownames=['Actual trust'], colnames=['Predicted trust'])"
   ]
  },
  {
   "cell_type": "code",
   "execution_count": null,
   "metadata": {},
   "outputs": [],
   "source": [
    "# View a list of the features and their importance scores\n",
    "list(zip(train[features], model.feature_importances_))"
   ]
  },
  {
   "cell_type": "code",
   "execution_count": null,
   "metadata": {},
   "outputs": [],
   "source": [
    "# Review the output\n",
    "output = pd.DataFrame({'domain': test.domain,\n",
    "                       'assigned_trust': test.trust,\n",
    "                       'prediction': predictions,\n",
    "                       'correct': test.trust == predictions})\n",
    "\n",
    "print(output.loc[output['correct'] == False])\n",
    "num_false = len(output.loc[output['correct'] == False])\n",
    "samp_size = len(output)\n",
    "print('Number of samples: {}'.format(samp_size))\n",
    "print('Number of false negatives: {}'.format(num_false))\n",
    "print('Total correct: {}%'.format(1 - (num_false/samp_size)))"
   ]
  }
 ],
 "metadata": {
  "kernelspec": {
   "display_name": "Python 3",
   "language": "python",
   "name": "python3"
  },
  "language_info": {
   "codemirror_mode": {
    "name": "ipython",
    "version": 3
   },
   "file_extension": ".py",
   "mimetype": "text/x-python",
   "name": "python",
   "nbconvert_exporter": "python",
   "pygments_lexer": "ipython3",
   "version": "3.8.3"
  }
 },
 "nbformat": 4,
 "nbformat_minor": 4
}
