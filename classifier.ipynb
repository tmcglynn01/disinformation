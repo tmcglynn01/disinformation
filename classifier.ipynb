{
 "cells": [
  {
   "cell_type": "code",
   "execution_count": 1,
   "metadata": {},
   "outputs": [],
   "source": [
    "import pandas as pd\n",
    "import numpy as np\n",
    "import matplotlib.pyplot as plt\n",
    "from sklearn.ensemble import RandomForestClassifier\n",
    "from sklearn.metrics import confusion_matrix"
   ]
  },
  {
   "cell_type": "code",
   "execution_count": 2,
   "metadata": {},
   "outputs": [],
   "source": [
    "# Import the data frames\n",
    "wf = pd.read_csv('data/datasets/fake_domain_word_freq.csv')\n",
    "df = pd.read_csv('data/datasets/fake_real_domains_combined.csv')\n",
    "rs = pd.read_csv('data/datasets/reg_scores.csv')"
   ]
  },
  {
   "cell_type": "code",
   "execution_count": 3,
   "metadata": {},
   "outputs": [],
   "source": [
    "# Score domain keywords based on word frequencies in the sample\n",
    "for e, dom in enumerate(df['dom_split']):\n",
    "    dom_split = dom.split(' ')\n",
    "    score = 0\n",
    "    for word in dom_split:\n",
    "        try:\n",
    "            prob = wf.loc[wf['word'] == word, 'samp_freq'].values[0]\n",
    "        except IndexError: prob = 0\n",
    "        score += prob\n",
    "    df.loc[e, 'dom_score'] = score\n",
    "mult = 1/df['dom_score'].max()\n",
    "df['dom_score'] = df['dom_score'] * mult"
   ]
  },
  {
   "cell_type": "code",
   "execution_count": 4,
   "metadata": {},
   "outputs": [
    {
     "data": {
      "text/html": [
       "<div>\n",
       "<style scoped>\n",
       "    .dataframe tbody tr th:only-of-type {\n",
       "        vertical-align: middle;\n",
       "    }\n",
       "\n",
       "    .dataframe tbody tr th {\n",
       "        vertical-align: top;\n",
       "    }\n",
       "\n",
       "    .dataframe thead th {\n",
       "        text-align: right;\n",
       "    }\n",
       "</style>\n",
       "<table border=\"1\" class=\"dataframe\">\n",
       "  <thead>\n",
       "    <tr style=\"text-align: right;\">\n",
       "      <th></th>\n",
       "      <th>rank</th>\n",
       "      <th>domain</th>\n",
       "      <th>tld</th>\n",
       "      <th>registrar</th>\n",
       "      <th>updated_date</th>\n",
       "      <th>creation_date</th>\n",
       "      <th>expiration_date</th>\n",
       "      <th>trust</th>\n",
       "      <th>dom_split</th>\n",
       "      <th>domain_length</th>\n",
       "      <th>keyword_length</th>\n",
       "      <th>num_nameservers</th>\n",
       "      <th>dom_age_days</th>\n",
       "      <th>dom_last_update</th>\n",
       "      <th>days_to_exp</th>\n",
       "      <th>update_to_exp</th>\n",
       "      <th>dom_score</th>\n",
       "      <th>reg_score</th>\n",
       "    </tr>\n",
       "  </thead>\n",
       "  <tbody>\n",
       "    <tr>\n",
       "      <th>25296</th>\n",
       "      <td>NaN</td>\n",
       "      <td>altervista</td>\n",
       "      <td>org</td>\n",
       "      <td>tucows</td>\n",
       "      <td>2020-08-29T20:04:42Z</td>\n",
       "      <td>2000-12-22T18:05:39Z</td>\n",
       "      <td>2025-12-22T18:05:39Z</td>\n",
       "      <td>initial trust</td>\n",
       "      <td>altervista</td>\n",
       "      <td>10</td>\n",
       "      <td>1</td>\n",
       "      <td>4</td>\n",
       "      <td>7251.736708</td>\n",
       "      <td>61.654034</td>\n",
       "      <td>1879.263292</td>\n",
       "      <td>1817.609257</td>\n",
       "      <td>0.000000</td>\n",
       "      <td>0.0</td>\n",
       "    </tr>\n",
       "    <tr>\n",
       "      <th>25297</th>\n",
       "      <td>NaN</td>\n",
       "      <td>at</td>\n",
       "      <td>ua</td>\n",
       "      <td>тов інтернет інвест</td>\n",
       "      <td>2020-07-17T13:34:02Z</td>\n",
       "      <td>2007-08-01T15:33:00Z</td>\n",
       "      <td>2021-08-01T15:32:58Z</td>\n",
       "      <td>initial trust</td>\n",
       "      <td>at</td>\n",
       "      <td>2</td>\n",
       "      <td>1</td>\n",
       "      <td>2</td>\n",
       "      <td>4838.842715</td>\n",
       "      <td>104.925331</td>\n",
       "      <td>275.157262</td>\n",
       "      <td>170.231931</td>\n",
       "      <td>0.000000</td>\n",
       "      <td>0.0</td>\n",
       "    </tr>\n",
       "    <tr>\n",
       "      <th>25298</th>\n",
       "      <td>NaN</td>\n",
       "      <td>readthedocs</td>\n",
       "      <td>io</td>\n",
       "      <td>namecheap</td>\n",
       "      <td>2020-05-15T07:14:10Z</td>\n",
       "      <td>2014-06-14T19:58:22Z</td>\n",
       "      <td>2021-06-14T19:58:22Z</td>\n",
       "      <td>initial trust</td>\n",
       "      <td>read the docs</td>\n",
       "      <td>11</td>\n",
       "      <td>3</td>\n",
       "      <td>4</td>\n",
       "      <td>2329.658433</td>\n",
       "      <td>168.189127</td>\n",
       "      <td>227.341567</td>\n",
       "      <td>59.152440</td>\n",
       "      <td>0.000000</td>\n",
       "      <td>0.0</td>\n",
       "    </tr>\n",
       "    <tr>\n",
       "      <th>25299</th>\n",
       "      <td>NaN</td>\n",
       "      <td>web</td>\n",
       "      <td>app</td>\n",
       "      <td>markmonitor</td>\n",
       "      <td>2019-12-12T10:38:09Z</td>\n",
       "      <td>2019-01-08T22:05:04Z</td>\n",
       "      <td>2021-01-08T22:05:04Z</td>\n",
       "      <td>initial trust</td>\n",
       "      <td>web</td>\n",
       "      <td>3</td>\n",
       "      <td>1</td>\n",
       "      <td>4</td>\n",
       "      <td>660.570446</td>\n",
       "      <td>323.047472</td>\n",
       "      <td>70.429553</td>\n",
       "      <td>-252.617919</td>\n",
       "      <td>0.004525</td>\n",
       "      <td>0.0</td>\n",
       "    </tr>\n",
       "    <tr>\n",
       "      <th>25300</th>\n",
       "      <td>NaN</td>\n",
       "      <td>plesk</td>\n",
       "      <td>page</td>\n",
       "      <td>namecheap</td>\n",
       "      <td>2020-06-08T11:00:08Z</td>\n",
       "      <td>2020-03-18T03:06:27Z</td>\n",
       "      <td>2021-03-18T03:06:27Z</td>\n",
       "      <td>initial trust</td>\n",
       "      <td>plesk</td>\n",
       "      <td>5</td>\n",
       "      <td>1</td>\n",
       "      <td>3</td>\n",
       "      <td>226.361152</td>\n",
       "      <td>144.032206</td>\n",
       "      <td>138.638847</td>\n",
       "      <td>-5.393358</td>\n",
       "      <td>0.000000</td>\n",
       "      <td>0.0</td>\n",
       "    </tr>\n",
       "  </tbody>\n",
       "</table>\n",
       "</div>"
      ],
      "text/plain": [
       "       rank       domain   tld            registrar          updated_date  \\\n",
       "25296   NaN   altervista   org               tucows  2020-08-29T20:04:42Z   \n",
       "25297   NaN           at    ua  тов інтернет інвест  2020-07-17T13:34:02Z   \n",
       "25298   NaN  readthedocs    io            namecheap  2020-05-15T07:14:10Z   \n",
       "25299   NaN          web   app          markmonitor  2019-12-12T10:38:09Z   \n",
       "25300   NaN        plesk  page            namecheap  2020-06-08T11:00:08Z   \n",
       "\n",
       "              creation_date       expiration_date          trust  \\\n",
       "25296  2000-12-22T18:05:39Z  2025-12-22T18:05:39Z  initial trust   \n",
       "25297  2007-08-01T15:33:00Z  2021-08-01T15:32:58Z  initial trust   \n",
       "25298  2014-06-14T19:58:22Z  2021-06-14T19:58:22Z  initial trust   \n",
       "25299  2019-01-08T22:05:04Z  2021-01-08T22:05:04Z  initial trust   \n",
       "25300  2020-03-18T03:06:27Z  2021-03-18T03:06:27Z  initial trust   \n",
       "\n",
       "           dom_split  domain_length  keyword_length  num_nameservers  \\\n",
       "25296     altervista             10               1                4   \n",
       "25297             at              2               1                2   \n",
       "25298  read the docs             11               3                4   \n",
       "25299            web              3               1                4   \n",
       "25300          plesk              5               1                3   \n",
       "\n",
       "       dom_age_days  dom_last_update  days_to_exp  update_to_exp  dom_score  \\\n",
       "25296   7251.736708        61.654034  1879.263292    1817.609257   0.000000   \n",
       "25297   4838.842715       104.925331   275.157262     170.231931   0.000000   \n",
       "25298   2329.658433       168.189127   227.341567      59.152440   0.000000   \n",
       "25299    660.570446       323.047472    70.429553    -252.617919   0.004525   \n",
       "25300    226.361152       144.032206   138.638847      -5.393358   0.000000   \n",
       "\n",
       "       reg_score  \n",
       "25296        0.0  \n",
       "25297        0.0  \n",
       "25298        0.0  \n",
       "25299        0.0  \n",
       "25300        0.0  "
      ]
     },
     "execution_count": 4,
     "metadata": {},
     "output_type": "execute_result"
    }
   ],
   "source": [
    "# Score registrars based on word frequencies in the sample\n",
    "for e, reg in enumerate(df['registrar']):\n",
    "    score = 0\n",
    "    other_val = rs.loc[rs['registrar'] == 'Other', 'reg_score'].values[0]\n",
    "    try:\n",
    "        prob = rs.loc[rs['registrar'] == reg, 'reg_score'].values[0]\n",
    "    except IndexError: prob = other_val\n",
    "    df.loc[e, 'reg_score'] = score\n",
    "\n",
    "df.tail()"
   ]
  },
  {
   "cell_type": "code",
   "execution_count": 5,
   "metadata": {},
   "outputs": [],
   "source": [
    "# Fill NAs for rank with the highest known one\n",
    "df['rank'] = df['rank'].fillna(df['rank'].max())"
   ]
  },
  {
   "cell_type": "code",
   "execution_count": 6,
   "metadata": {},
   "outputs": [
    {
     "data": {
      "text/plain": [
       "2"
      ]
     },
     "execution_count": 6,
     "metadata": {},
     "output_type": "execute_result"
    }
   ],
   "source": [
    "features = ['domain_length', 'keyword_length', 'num_nameservers',\n",
    "            'dom_age_days', 'dom_score', 'reg_score', 'rank']\n",
    "\n",
    "len(df[features].dropna()) % 3"
   ]
  },
  {
   "cell_type": "code",
   "execution_count": 7,
   "metadata": {},
   "outputs": [
    {
     "name": "stdout",
     "output_type": "stream",
     "text": [
      "Starting length: 25301\n",
      "Ending length: 25299\n"
     ]
    }
   ],
   "source": [
    "# Ensure even splits for the train/test/validate sets\n",
    "print('Starting length: {}'.format(len(df)))\n",
    "remove_n = len(df) % 3\n",
    "drop_indices = np.random.choice(df.index, remove_n, replace=False)\n",
    "df = df.drop(drop_indices)\n",
    "print('Ending length: {}'.format(len(df)))"
   ]
  },
  {
   "cell_type": "code",
   "execution_count": 8,
   "metadata": {},
   "outputs": [],
   "source": [
    "# Create the split datasets for train, validate, and test\n",
    "train, validate, test = np.split(\n",
    "    df.sample(frac=1, random_state=42), [int(.6*len(df)), int(.8*len(df))])\n",
    "\n",
    "y = train['trust']"
   ]
  },
  {
   "cell_type": "code",
   "execution_count": 9,
   "metadata": {},
   "outputs": [
    {
     "name": "stdout",
     "output_type": "stream",
     "text": [
      "0\n",
      "0\n",
      "0\n"
     ]
    }
   ],
   "source": [
    "# Check for NaN values in the sets\n",
    "print(train[features].isnull().sum().sum())\n",
    "print(validate[features].isnull().sum().sum())\n",
    "print(test[features].isnull().sum().sum())"
   ]
  },
  {
   "cell_type": "code",
   "execution_count": 10,
   "metadata": {},
   "outputs": [
    {
     "data": {
      "text/html": [
       "<div>\n",
       "<style scoped>\n",
       "    .dataframe tbody tr th:only-of-type {\n",
       "        vertical-align: middle;\n",
       "    }\n",
       "\n",
       "    .dataframe tbody tr th {\n",
       "        vertical-align: top;\n",
       "    }\n",
       "\n",
       "    .dataframe thead th {\n",
       "        text-align: right;\n",
       "    }\n",
       "</style>\n",
       "<table border=\"1\" class=\"dataframe\">\n",
       "  <thead>\n",
       "    <tr style=\"text-align: right;\">\n",
       "      <th></th>\n",
       "      <th>domain_length</th>\n",
       "      <th>keyword_length</th>\n",
       "      <th>num_nameservers</th>\n",
       "      <th>dom_age_days</th>\n",
       "      <th>dom_score</th>\n",
       "      <th>reg_score</th>\n",
       "      <th>rank</th>\n",
       "    </tr>\n",
       "  </thead>\n",
       "  <tbody>\n",
       "    <tr>\n",
       "      <th>25296</th>\n",
       "      <td>10</td>\n",
       "      <td>1</td>\n",
       "      <td>4</td>\n",
       "      <td>7251.736708</td>\n",
       "      <td>0.000000</td>\n",
       "      <td>0.0</td>\n",
       "      <td>765288.0</td>\n",
       "    </tr>\n",
       "    <tr>\n",
       "      <th>25297</th>\n",
       "      <td>2</td>\n",
       "      <td>1</td>\n",
       "      <td>2</td>\n",
       "      <td>4838.842715</td>\n",
       "      <td>0.000000</td>\n",
       "      <td>0.0</td>\n",
       "      <td>765288.0</td>\n",
       "    </tr>\n",
       "    <tr>\n",
       "      <th>25298</th>\n",
       "      <td>11</td>\n",
       "      <td>3</td>\n",
       "      <td>4</td>\n",
       "      <td>2329.658433</td>\n",
       "      <td>0.000000</td>\n",
       "      <td>0.0</td>\n",
       "      <td>765288.0</td>\n",
       "    </tr>\n",
       "    <tr>\n",
       "      <th>25299</th>\n",
       "      <td>3</td>\n",
       "      <td>1</td>\n",
       "      <td>4</td>\n",
       "      <td>660.570446</td>\n",
       "      <td>0.004525</td>\n",
       "      <td>0.0</td>\n",
       "      <td>765288.0</td>\n",
       "    </tr>\n",
       "    <tr>\n",
       "      <th>25300</th>\n",
       "      <td>5</td>\n",
       "      <td>1</td>\n",
       "      <td>3</td>\n",
       "      <td>226.361152</td>\n",
       "      <td>0.000000</td>\n",
       "      <td>0.0</td>\n",
       "      <td>765288.0</td>\n",
       "    </tr>\n",
       "  </tbody>\n",
       "</table>\n",
       "</div>"
      ],
      "text/plain": [
       "       domain_length  keyword_length  num_nameservers  dom_age_days  \\\n",
       "25296             10               1                4   7251.736708   \n",
       "25297              2               1                2   4838.842715   \n",
       "25298             11               3                4   2329.658433   \n",
       "25299              3               1                4    660.570446   \n",
       "25300              5               1                3    226.361152   \n",
       "\n",
       "       dom_score  reg_score      rank  \n",
       "25296   0.000000        0.0  765288.0  \n",
       "25297   0.000000        0.0  765288.0  \n",
       "25298   0.000000        0.0  765288.0  \n",
       "25299   0.004525        0.0  765288.0  \n",
       "25300   0.000000        0.0  765288.0  "
      ]
     },
     "execution_count": 10,
     "metadata": {},
     "output_type": "execute_result"
    }
   ],
   "source": [
    "df[features].tail()"
   ]
  },
  {
   "cell_type": "code",
   "execution_count": 11,
   "metadata": {},
   "outputs": [],
   "source": [
    "# Train the classifier\n",
    "X = pd.get_dummies(train[features])\n",
    "X_test = pd.get_dummies(test[features])\n",
    "\n",
    "model = RandomForestClassifier(n_estimators=100, max_depth=5, random_state=1)\n",
    "model.fit(X, y)\n",
    "predictions = model.predict(X_test)"
   ]
  },
  {
   "cell_type": "code",
   "execution_count": 12,
   "metadata": {},
   "outputs": [
    {
     "data": {
      "text/html": [
       "<div>\n",
       "<style scoped>\n",
       "    .dataframe tbody tr th:only-of-type {\n",
       "        vertical-align: middle;\n",
       "    }\n",
       "\n",
       "    .dataframe tbody tr th {\n",
       "        vertical-align: top;\n",
       "    }\n",
       "\n",
       "    .dataframe thead th {\n",
       "        text-align: right;\n",
       "    }\n",
       "</style>\n",
       "<table border=\"1\" class=\"dataframe\">\n",
       "  <thead>\n",
       "    <tr style=\"text-align: right;\">\n",
       "      <th>Predicted trust</th>\n",
       "      <th>fake</th>\n",
       "      <th>initial trust</th>\n",
       "    </tr>\n",
       "    <tr>\n",
       "      <th>Actual trust</th>\n",
       "      <th></th>\n",
       "      <th></th>\n",
       "    </tr>\n",
       "  </thead>\n",
       "  <tbody>\n",
       "    <tr>\n",
       "      <th>fake</th>\n",
       "      <td>508</td>\n",
       "      <td>20</td>\n",
       "    </tr>\n",
       "    <tr>\n",
       "      <th>initial trust</th>\n",
       "      <td>2</td>\n",
       "      <td>4530</td>\n",
       "    </tr>\n",
       "  </tbody>\n",
       "</table>\n",
       "</div>"
      ],
      "text/plain": [
       "Predicted trust  fake  initial trust\n",
       "Actual trust                        \n",
       "fake              508             20\n",
       "initial trust       2           4530"
      ]
     },
     "execution_count": 12,
     "metadata": {},
     "output_type": "execute_result"
    }
   ],
   "source": [
    "# Create confusion matrix\n",
    "pd.crosstab(test['trust'], predictions, rownames=['Actual trust'], colnames=['Predicted trust'])"
   ]
  },
  {
   "cell_type": "code",
   "execution_count": 13,
   "metadata": {},
   "outputs": [
    {
     "data": {
      "text/plain": [
       "[('domain_length', 0.049907939988694035),\n",
       " ('keyword_length', 0.00807947852016772),\n",
       " ('num_nameservers', 0.010993911278435374),\n",
       " ('dom_age_days', 0.0734469944276016),\n",
       " ('dom_score', 0.21613020134771627),\n",
       " ('reg_score', 0.0),\n",
       " ('rank', 0.6414414744373851)]"
      ]
     },
     "execution_count": 13,
     "metadata": {},
     "output_type": "execute_result"
    }
   ],
   "source": [
    "# View a list of the features and their importance scores\n",
    "list(zip(train[features], model.feature_importances_))"
   ]
  },
  {
   "cell_type": "code",
   "execution_count": 14,
   "metadata": {},
   "outputs": [
    {
     "name": "stdout",
     "output_type": "stream",
     "text": [
      "                         domain assigned_trust     prediction  correct\n",
      "21932                 pewtrusts           fake  initial trust    False\n",
      "3915             nationalreview           fake  initial trust    False\n",
      "19391           dollarvigilante           fake  initial trust    False\n",
      "21485            whatdoesitmean           fake  initial trust    False\n",
      "22950   theeconomiccollapseblog           fake  initial trust    False\n",
      "11758                    pravda           fake  initial trust    False\n",
      "19178            consortiumnews           fake  initial trust    False\n",
      "187                   breitbart           fake  initial trust    False\n",
      "17081            thetruthseeker           fake  initial trust    False\n",
      "4650                    pjmedia           fake  initial trust    False\n",
      "18741  informationclearinghouse           fake  initial trust    False\n",
      "25299                       web  initial trust           fake    False\n",
      "25297                        at  initial trust           fake    False\n",
      "338                      nypost           fake  initial trust    False\n",
      "22998                  foodbabe           fake  initial trust    False\n",
      "18946        unofficialnetworks           fake  initial trust    False\n",
      "22576       thetruthaboutcancer           fake  initial trust    False\n",
      "7115                        wnd           fake  initial trust    False\n",
      "19089        washingtonexaminer           fake  initial trust    False\n",
      "10967                   twitchy           fake  initial trust    False\n",
      "23000         theeventchronicle           fake  initial trust    False\n",
      "20447            coasttocoastam           fake  initial trust    False\n",
      "Number of samples: 5060\n",
      "Number of errors: 22\n",
      "Total correct: 0.9956521739130435%\n"
     ]
    }
   ],
   "source": [
    "# Review the output\n",
    "output = pd.DataFrame({'domain': test.domain,\n",
    "                       'assigned_trust': test.trust,\n",
    "                       'prediction': predictions,\n",
    "                       'correct': test.trust == predictions})\n",
    "\n",
    "print(output.loc[output['correct'] == False])\n",
    "num_false = len(output.loc[output['correct'] == False])\n",
    "samp_size = len(output)\n",
    "print('Number of samples: {}'.format(samp_size))\n",
    "print('Number of errors: {}'.format(num_false))\n",
    "print('Total correct: {}%'.format(1 - (num_false/samp_size)))"
   ]
  },
  {
   "cell_type": "code",
   "execution_count": 15,
   "metadata": {},
   "outputs": [
    {
     "data": {
      "text/html": [
       "<div>\n",
       "<style scoped>\n",
       "    .dataframe tbody tr th:only-of-type {\n",
       "        vertical-align: middle;\n",
       "    }\n",
       "\n",
       "    .dataframe tbody tr th {\n",
       "        vertical-align: top;\n",
       "    }\n",
       "\n",
       "    .dataframe thead th {\n",
       "        text-align: right;\n",
       "    }\n",
       "</style>\n",
       "<table border=\"1\" class=\"dataframe\">\n",
       "  <thead>\n",
       "    <tr style=\"text-align: right;\">\n",
       "      <th>Predicted trust</th>\n",
       "      <th>fake</th>\n",
       "      <th>initial trust</th>\n",
       "    </tr>\n",
       "    <tr>\n",
       "      <th>Actual trust</th>\n",
       "      <th></th>\n",
       "      <th></th>\n",
       "    </tr>\n",
       "  </thead>\n",
       "  <tbody>\n",
       "    <tr>\n",
       "      <th>fake</th>\n",
       "      <td>435</td>\n",
       "      <td>15</td>\n",
       "    </tr>\n",
       "    <tr>\n",
       "      <th>initial trust</th>\n",
       "      <td>3</td>\n",
       "      <td>4607</td>\n",
       "    </tr>\n",
       "  </tbody>\n",
       "</table>\n",
       "</div>"
      ],
      "text/plain": [
       "Predicted trust  fake  initial trust\n",
       "Actual trust                        \n",
       "fake              435             15\n",
       "initial trust       3           4607"
      ]
     },
     "execution_count": 15,
     "metadata": {},
     "output_type": "execute_result"
    }
   ],
   "source": [
    "# Train the classifier\n",
    "X = pd.get_dummies(train[features])\n",
    "X_test = pd.get_dummies(validate[features])\n",
    "\n",
    "model = RandomForestClassifier(n_estimators=100, max_depth=5, random_state=1)\n",
    "model.fit(X, y)\n",
    "predictions = model.predict(X_test)"
   ]
  },
  {
   "cell_type": "code",
   "execution_count": 16,
   "metadata": {},
   "outputs": [
    {
     "data": {
      "image/png": "[encoded data removed]",
      "text/plain": [
       "<Figure size 360x360 with 1 Axes>"
      ]
     },
     "metadata": {
      "needs_background": "light"
     },
     "output_type": "display_data"
    }
   ],
   "source": [
    "# Calculate the confusion matrix\n",
    "conf_matrix = confusion_matrix(y_true=validate['trust'], y_pred=predictions)\n",
    "\n",
    "# Print the confusion matrix using Matplotlib\n",
    "fig, ax = plt.subplots(figsize=(5, 5))\n",
    "ax.matshow(conf_matrix, cmap=plt.cm.Oranges, alpha=0.3)\n",
    "for i in range(conf_matrix.shape[0]):\n",
    "    for j in range(conf_matrix.shape[1]):\n",
    "        ax.text(x=j, y=i,s=conf_matrix[i, j], va='center', ha='center', size='xx-large')\n",
    "\n",
    "plt.xlabel('Predictions', fontsize=18)\n",
    "plt.ylabel('Actuals', fontsize=18)\n",
    "plt.title('Confusion Matrix', fontsize=18)\n",
    "plt.show()"
   ]
  },
  {
   "cell_type": "code",
   "execution_count": 17,
   "metadata": {},
   "outputs": [
    {
     "name": "stdout",
     "output_type": "stream",
     "text": [
      "                   domain assigned_trust     prediction  correct\n",
      "22166     zambianobserver           fake  initial trust    False\n",
      "25296          altervista  initial trust           fake    False\n",
      "20732     100percentfedup           fake  initial trust    False\n",
      "20196    americanprogress           fake  initial trust    False\n",
      "20224        thehardtimes           fake  initial trust    False\n",
      "368                    rt           fake  initial trust    False\n",
      "18372      projectveritas           fake  initial trust    False\n",
      "16706          freebeacon           fake  initial trust    False\n",
      "21289   consciouslifenews           fake  initial trust    False\n",
      "20580  conservativereview           fake  initial trust    False\n",
      "25293                 msk  initial trust           fake    False\n",
      "19456              unilad           fake  initial trust    False\n",
      "20357            alternet           fake  initial trust    False\n",
      "17900                  me           fake  initial trust    False\n",
      "25300               plesk  initial trust           fake    False\n",
      "18188         dailysignal           fake  initial trust    False\n",
      "18623            advocate           fake  initial trust    False\n",
      "16654                rbth           fake  initial trust    False\n",
      "Number of samples: 5060\n",
      "Number of errors: 18\n",
      "Total correct: 0.9964426877470356%\n"
     ]
    }
   ],
   "source": [
    "# Review the output\n",
    "output = pd.DataFrame({'domain': validate.domain,\n",
    "                       'assigned_trust': validate.trust,\n",
    "                       'prediction': predictions,\n",
    "                       'correct': validate.trust == predictions})\n",
    "\n",
    "print(output.loc[output['correct'] == False])\n",
    "num_false = len(output.loc[output['correct'] == False])\n",
    "samp_size = len(output)\n",
    "print('Number of samples: {}'.format(samp_size))\n",
    "print('Number of errors: {}'.format(num_false))\n",
    "print('Total correct: {}%'.format(1 - (num_false/samp_size)))"
   ]
  },
  {
   "cell_type": "code",
   "execution_count": 18,
   "metadata": {},
   "outputs": [
    {
     "data": {
      "text/plain": [
       "0.9962450592885376"
      ]
     },
     "execution_count": 18,
     "metadata": {},
     "output_type": "execute_result"
    }
   ],
   "source": [
    "(0.9962450592885376 + 0.9962450592885376)/2"
   ]
  },
  {
   "cell_type": "code",
   "execution_count": 19,
   "metadata": {},
   "outputs": [],
   "source": [
    "def true_pos(): pass\n",
    "def true_neg(): pass"
   ]
  }
 ],
 "metadata": {
  "kernelspec": {
   "display_name": "Python 3",
   "language": "python",
   "name": "python3"
  },
  "language_info": {
   "codemirror_mode": {
    "name": "ipython",
    "version": 3
   },
   "file_extension": ".py",
   "mimetype": "text/x-python",
   "name": "python",
   "nbconvert_exporter": "python",
   "pygments_lexer": "ipython3",
   "version": "3.8.3"
  }
 },
 "nbformat": 4,
 "nbformat_minor": 4
}
